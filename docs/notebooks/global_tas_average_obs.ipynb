{
 "cells": [
  {
   "cell_type": "markdown",
   "id": "00cbb3eb-4e4b-460b-8f5e-5cb72759f437",
   "metadata": {},
   "source": [
    "# Compute global temperature average for observational datasets\n",
    "\n",
    "This notebook follows the guidelines of the _State of the Global Climate 2021_([link]) report to compute observational timeseries of the global annual temperature average (land+ocean) to be used in warming level computations. The same datasets are used, except ERA5 for which I didn't have the data at hand when writing this.\n",
    "\n",
    "When possible, data is downloaded directly here.\n",
    "\n",
    "Most of those datasets are given as anomalies relative to some period. The WMO guidelines give a workflow to compute anomalies relative to 1850-1900. However, the xscen dataset gives absolute values, not anomalies. We add an estimate of the mean temperature over 1850-1900 to the observational anomalies in order to have compatible values. The xscen dataset should nonetheless always be used by computing anomalies. The value of 13.79°C was computed with Berkeley Earth's timeseries.\n",
    "\n",
    "[link]: https://library.wmo.int/idurl/4/56300\n",
    "\n",
    "## Preparation"
   ]
  },
  {
   "cell_type": "code",
   "execution_count": null,
   "id": "01cb5af8-6c27-4223-9699-fef62a08e23e",
   "metadata": {
    "tags": []
   },
   "outputs": [],
   "source": [
    "import os\n",
    "import re\n",
    "import sys\n",
    "\n",
    "os.environ[\"ESMFMKFILE\"] = os.path.join(sys.prefix, \"lib\", \"esmf.mk\")\n",
    "from datetime import datetime, timedelta\n",
    "\n",
    "import dask\n",
    "import matplotlib.pyplot as plt\n",
    "import numpy as np\n",
    "import pandas as pd\n",
    "import requests\n",
    "import xarray as xr\n",
    "from dask.diagnostics import ProgressBar\n",
    "\n",
    "import xscen as xs\n",
    "\n",
    "dask.config.set(num_workers=12)"
   ]
  },
  {
   "cell_type": "code",
   "execution_count": null,
   "id": "4ff377ea-7ad6-4c57-a485-73871f61a5f3",
   "metadata": {
    "tags": []
   },
   "outputs": [],
   "source": [
    "# WMO's reference period\n",
    "ref_period = [1981, 2010]\n",
    "# Tempertarue difference between the reference period and 1850-1900\n",
    "# See source. Computed according to the IPCC's AR6 WG1.\n",
    "ref_delta = 0.69\n",
    "\n",
    "# This was computed from Berkeley Earth and is an estimate of the 1850-1900 mean\n",
    "# it is used to get series that looks like real temperature.\n",
    "preind_abs = 13.79\n",
    "\n",
    "\n",
    "def clean(tas):\n",
    "    \"\"\"Transform anomalies relative to some period to anomalies relative to 1850-1900 and then adds an estimate for that period.\"\"\"\n",
    "    # From tas to anomalies relative to the reference period to anomalies relative to 1850-1900.\n",
    "    tas_pre = tas - tas.sel(year=slice(*ref_period)).mean() + ref_delta\n",
    "    # Fill 1850-1900 with 0s\n",
    "    first_year = tas_pre.year.values[0]\n",
    "    last_0_year = min(1900, first_year)\n",
    "    zeros = xr.DataArray(\n",
    "        [0] * (last_0_year - 1850),\n",
    "        dims=(\"year\",),\n",
    "        coords={\"year\": np.arange(1850, last_0_year)},\n",
    "    )\n",
    "    # Concat over years and add the estimate to get absolute values\n",
    "    return xr.concat([zeros, tas_pre], \"year\") + preind_abs\n",
    "\n",
    "\n",
    "# The output, a list of DataArrays with a year dim and a \"source\" singleton dim\n",
    "temps = []"
   ]
  },
  {
   "cell_type": "markdown",
   "id": "90fb65b3-1f30-4983-8564-4f3ce0d46678",
   "metadata": {},
   "source": [
    "### Berkeley Earth\n",
    "Rohde, R. A.; Hausfather, Z. The Berkeley Earth Land/Ocean Temperature Record. Earth System Science Data 2020, 12, 3469–3479. https://doi.org/10.5194/essd-12-3469-2020.\n",
    "\n",
    "The annual summary of the Global Monthly Averages from 1850 to preset is available online as text file. It comes as an anomaly relative to the 1951-1980 average, which is given directly in the header of the text file. We have the choice of using temperature above or below sea ice for the ocean component. I didn't anything in the WMO recommendation about this, so we will use the temperature above.\n",
    "\n",
    "For this dataset, we will make two versions. One version will use the 0.69°C delta to compute absolute anomalies from 1850-1900, as done in the WMO report. The other will simply use the 1850-1900 values directly, as they are available for this dataset."
   ]
  },
  {
   "cell_type": "code",
   "execution_count": null,
   "id": "3650631b-db67-4b65-9586-7a18d1f50d57",
   "metadata": {
    "tags": []
   },
   "outputs": [],
   "source": [
    "# Get data\n",
    "with open(\"Berkeley_data.txt\", \"wb\") as f:\n",
    "    res = requests.get(\n",
    "        \"https://berkeley-earth-temperature.s3.us-west-1.amazonaws.com/Global/Land_and_Ocean_summary.txt\"\n",
    "    )\n",
    "    f.write(res.content)\n",
    "\n",
    "df = pd.read_table(\n",
    "    \"Berkeley_data.txt\",\n",
    "    skiprows=58,\n",
    "    usecols=[0, 1],\n",
    "    names=[\"year\", \"temp\"],\n",
    "    sep=r\"\\s+\",\n",
    "    index_col=\"year\",\n",
    ")\n",
    "da = df.temp.to_xarray().assign_attrs(units=\"°C\")\n",
    "\n",
    "# Get global average for the reference period of the data\n",
    "with open(\"Berkeley_data.txt\") as f:\n",
    "    for line in f:\n",
    "        if \"% Estimated Jan 1951-Dec 1980 global mean temperature (C)\" in line:\n",
    "            data = re.search(r\"(\\d{2}.\\d{3})\", next(f))\n",
    "            break\n",
    "refAvg = float(data.groups()[0])\n",
    "refAvg\n",
    "\n",
    "daAbs = da + refAvg\n",
    "\n",
    "daWMO = clean(da)\n",
    "\n",
    "temps.append(daAbs.expand_dims(source=[\"Berkeley-Raw\"]))\n",
    "temps.append(daWMO.expand_dims(source=[\"Berkeley\"]))"
   ]
  },
  {
   "cell_type": "code",
   "execution_count": null,
   "id": "0f939173-be37-41ca-937c-2126863cd907",
   "metadata": {
    "tags": []
   },
   "outputs": [],
   "source": [
    "# A figure to look at it\n",
    "fig, ax = plt.subplots(figsize=(10, 3))\n",
    "(daAbs - daAbs.sel(year=slice(1850, 1900)).mean()).plot(ax=ax, label=\"Raw\")\n",
    "daWMO.plot(ax=ax, label=\"WMO\")\n",
    "ax.set_title(\n",
    "    \"Global Average Temperature according to Bekerley - anomalies vs 1850-1900\"\n",
    ")\n",
    "ax.set_xlabel(\"years\")\n",
    "ax.set_ylabel(\"[°C]\")\n",
    "ax.legend()"
   ]
  },
  {
   "cell_type": "markdown",
   "id": "ecf5d136-8bad-484e-ab0d-9aa3fa9c23e7",
   "metadata": {},
   "source": [
    "### GISTEMP v4\n",
    "GISTEMP Team, 2023: GISS Surface Temperature Analysis (GISTEMP), version 4. NASA Goddard Institute for Space Studies. Dataset accessed 2023-12-06 at https://data.giss.nasa.gov/gistemp/.\n",
    "\n",
    "This dataset comes in a CSV of anomalies relative to 1951-1980.\n"
   ]
  },
  {
   "cell_type": "code",
   "execution_count": null,
   "id": "f13eabec-2a00-4cee-b195-88c054698dfa",
   "metadata": {
    "tags": []
   },
   "outputs": [],
   "source": [
    "df = pd.read_csv(\n",
    "    \"https://data.giss.nasa.gov/gistemp/tabledata_v4/GLB.Ts+dSST.csv\",\n",
    "    usecols=[\"Year\", \"J-D\"],\n",
    "    skiprows=1,\n",
    "    index_col=\"Year\",\n",
    "    na_values=\"***\",\n",
    ")\n",
    "da = df[\"J-D\"].to_xarray().rename(Year=\"year\").rename(\"temp\").assign_attrs(units=\"°C\")\n",
    "\n",
    "daWMO = clean(da)\n",
    "\n",
    "temps.append(daWMO.expand_dims(source=[\"GISTEMPv4\"]))"
   ]
  },
  {
   "cell_type": "markdown",
   "id": "8baeca9c-caec-4f81-9f99-233694acabb3",
   "metadata": {},
   "source": [
    "### HadCRUT5\n",
    "Morice, C.P., J.J. Kennedy, N.A. Rayner, J.P. Winn, E. Hogan, R.E. Killick, R.J.H. Dunn, T.J. Osborn, P.D. Jones and I.R. Simpson (in press) An updated assessment of near-surface temperature change from 1850: the HadCRUT5 dataset. Journal of Geophysical Research (Atmospheres) doi:10.1029/2019JD032361 (supporting information). \n",
    "\n",
    "The CSV is an anomaly relative to 1961-1990."
   ]
  },
  {
   "cell_type": "code",
   "execution_count": null,
   "id": "5dcf304e-d43a-4c7b-b0f1-8b4203cb2cf8",
   "metadata": {
    "tags": []
   },
   "outputs": [],
   "source": [
    "df = pd.read_csv(\n",
    "    \"https://www.metoffice.gov.uk/hadobs/hadcrut5/data/HadCRUT.5.0.2.0/analysis/diagnostics/HadCRUT.5.0.2.0.analysis.summary_series.global.annual.csv\",\n",
    "    usecols=[0, 1],\n",
    "    index_col=0,\n",
    ")\n",
    "da = (\n",
    "    df[\"Anomaly (deg C)\"]\n",
    "    .to_xarray()\n",
    "    .rename(Time=\"year\")\n",
    "    .rename(\"temp\")\n",
    "    .assign_attrs(units=\"°C\")\n",
    ")\n",
    "\n",
    "daWMO = clean(da)\n",
    "\n",
    "temps.append(daWMO.expand_dims(source=[\"HadCRUT5\"]))"
   ]
  },
  {
   "cell_type": "markdown",
   "id": "eaa12a90-722c-4a0a-bd21-6db3c1afe73c",
   "metadata": {},
   "source": [
    "### NOAAGlobalTemp v5\n",
    "R. S. Vose, B. Huang, X. Yin, D. Arndt, D. R. Easterling, J. H. Lawrimore, M. J. Menne, A. Sanchez-Lugo, and H. M. Zhang (2022): NOAA Global Surface Temperature Dataset (NOAAGlobalTemp), Version 5.1 [indicate subset used]. NOAA National Centers for Environmental Information. doi.org/10.25921/2tj4-0e21\n",
    "\n",
    "Available as a text file as an anomaly relative to 1971-2000. The files are updated each month with only the last month kept available."
   ]
  },
  {
   "cell_type": "code",
   "execution_count": null,
   "id": "86e77060-1b95-4a75-b1bf-230955b172fd",
   "metadata": {
    "tags": []
   },
   "outputs": [],
   "source": [
    "df = pd.read_table(\n",
    "    f\"https://www.ncei.noaa.gov/data/noaa-global-surface-temperature/v5.1/access/timeseries/aravg.ann.land_ocean.90S.90N.v5.1.0.202311.asc\",\n",
    "    sep=r\"\\s+\",\n",
    "    usecols=[0, 1],\n",
    "    index_col=0,\n",
    "    names=[\"year\", \"temp\"],\n",
    ")\n",
    "\n",
    "da = df.temp.to_xarray().assign_attrs(units=\"°C\")\n",
    "\n",
    "daWMO = clean(da)\n",
    "\n",
    "temps.append(daWMO.expand_dims(source=[\"NOAAGlobalTempv5\"]))"
   ]
  },
  {
   "cell_type": "markdown",
   "id": "97a33f82-96e1-4f02-a74e-c7963255669e",
   "metadata": {},
   "source": [
    "### ERA5\n",
    "Hersbach, H.; Bell, B.; Berrisford, P. et al. The ERA5 global reanalysis. Quarterly Journal of the Royal Meteorological Society 2020, 146 (730), 1999–2049. https://doi.org/10.1002/qj.3803.\n",
    "\n",
    "TODO"
   ]
  },
  {
   "cell_type": "code",
   "execution_count": null,
   "id": "953de14e-68a8-40cc-9f24-98b40f32645c",
   "metadata": {
    "tags": []
   },
   "outputs": [],
   "source": [
    "# cat = xs.DataCatalog('/tank/scenario/catalogues/reconstruction.json')"
   ]
  },
  {
   "cell_type": "code",
   "execution_count": null,
   "id": "b7ce5ea7-c3c7-4ed1-91a1-4b880c939aca",
   "metadata": {
    "tags": []
   },
   "outputs": [],
   "source": [
    "# cat.search(source='ERA5', variable='tas', xrfreq='MS').unique()"
   ]
  },
  {
   "cell_type": "markdown",
   "id": "cba799a0-62e6-4795-b086-708ea6556504",
   "metadata": {},
   "source": [
    "### JRA-55\n",
    "Ebita, A. et al., 2011, The Japanese 55-year Reanalysis \"JRA-55\": an interim report, SOLA, 7, 149-152.\n",
    "Kobayashi, S. et al., 2015; The JRA-55 Reanalysis: General Specifications and Basic Characteristics, to be published on JMSJ.\n",
    "\n",
    "Here the data is a gridded 6-hourly global dataset, so we need to resample yearly and average spatially."
   ]
  },
  {
   "cell_type": "code",
   "execution_count": null,
   "id": "59084477-1ff6-4744-9146-0acd9172d746",
   "metadata": {
    "tags": []
   },
   "outputs": [],
   "source": [
    "ds = xr.open_mfdataset(\n",
    "    \"/tank/scenario/netcdf/jra/jra55/analysis/tas/*.nc\",\n",
    "    coords=\"minimal\",\n",
    "    data_vars=\"minimal\",\n",
    ")\n",
    "\n",
    "da = xs.spatial_mean(\n",
    "    ds.tas.resample(time=\"YS\").mean(), method=\"cos-lat\", region=\"global\"\n",
    ")\n",
    "\n",
    "da = da.assign_coords(time=da.time.dt.year).rename(time=\"year\")\n",
    "\n",
    "with ProgressBar():\n",
    "    daWMO = clean(da).load()\n",
    "temps.append(daWMO.expand_dims(source=[\"JRA-55\"]))"
   ]
  },
  {
   "cell_type": "markdown",
   "id": "c5011372-f958-4175-be0b-af9bebea8daf",
   "metadata": {},
   "source": [
    "## Combine all"
   ]
  },
  {
   "cell_type": "code",
   "execution_count": null,
   "id": "c77b9525-6fd1-4776-9243-0116adb297f8",
   "metadata": {
    "tags": []
   },
   "outputs": [],
   "source": [
    "ds = xr.concat(temps, \"source\")\n",
    "ds"
   ]
  },
  {
   "cell_type": "code",
   "execution_count": null,
   "id": "45030be4-2de6-40a4-bad9-af07b40037d6",
   "metadata": {
    "tags": []
   },
   "outputs": [],
   "source": [
    "# A figure to look at it\n",
    "fig, ax = plt.subplots(figsize=(10, 3))\n",
    "ds.plot(ax=ax, hue=\"source\")\n",
    "ax.set_title(\"Global Average Temperature - Obs\")\n",
    "ax.set_xlabel(\"years\")\n",
    "ax.set_ylabel(\"[°C]\")"
   ]
  },
  {
   "cell_type": "code",
   "execution_count": null,
   "id": "9d88113e-cc50-40bb-a9e9-088b9e0488eb",
   "metadata": {
    "tags": []
   },
   "outputs": [],
   "source": [
    "db = xr.open_dataset(\"xscen/data/IPCC_annual_global_tas.nc\", engine=\"h5netcdf\")\n",
    "db"
   ]
  },
  {
   "cell_type": "code",
   "execution_count": null,
   "id": "f24681dd-f883-46ad-af2d-6d80f0aa8c5c",
   "metadata": {
    "tags": []
   },
   "outputs": [],
   "source": [
    "ds2 = (\n",
    "    ds.assign_coords(year=pd.to_datetime(ds.year, format=\"%Y\"))\n",
    "    .rename(year=\"time\")\n",
    "    .drop_vars(\"source\")\n",
    "    .rename(source=\"simulation\")\n",
    "    .assign_coords(\n",
    "        source=((\"simulation\",), ds.source.values),\n",
    "        data_source=(\n",
    "            (\"simulation\",),\n",
    "            [\"Computed following WMO guidelines\"] * ds.source.size,\n",
    "        ),\n",
    "        mip_era=((\"simulation\",), [\"obs\"] * ds.source.size),\n",
    "        experiment=((\"simulation\",), [\"obs\"] * ds.source.size),\n",
    "        member=((\"simulation\",), [\"\"] * ds.source.size),\n",
    "    )\n",
    "    .rename(\"tas\")\n",
    "    .to_dataset()\n",
    ")\n",
    "ds2"
   ]
  },
  {
   "cell_type": "code",
   "execution_count": null,
   "id": "c055f123-1374-4151-8fa8-795dbad3c41b",
   "metadata": {
    "tags": []
   },
   "outputs": [],
   "source": [
    "db2 = xr.concat([db, ds2], \"simulation\")\n",
    "db2.attrs[\"description\"] = (\n",
    "    db.attrs[\"description\"]\n",
    "    + \" Observational datasets were also added following the WMO guidelines.\"\n",
    ")"
   ]
  },
  {
   "cell_type": "code",
   "execution_count": null,
   "id": "a144b9e9-052b-45d4-88ef-8aa36d057dda",
   "metadata": {
    "tags": []
   },
   "outputs": [],
   "source": [
    "db2.to_netcdf(\"xscen/data/IPCC_annual_global_tas_withObs.nc\")"
   ]
  },
  {
   "cell_type": "code",
   "execution_count": null,
   "id": "fcc7c566-79e3-4044-95a4-ae9e99acd9fa",
   "metadata": {
    "tags": []
   },
   "outputs": [],
   "source": [
    "db2.tas.plot(hue=\"simulation\", add_legend=False)"
   ]
  },
  {
   "cell_type": "code",
   "execution_count": null,
   "id": "f257e3ef-5669-487f-b40f-43f72f27004a",
   "metadata": {},
   "outputs": [],
   "source": []
  }
 ],
 "metadata": {
  "language_info": {
   "codemirror_mode": {
    "name": "ipython",
    "version": 3
   },
   "file_extension": ".py",
   "mimetype": "text/x-python",
   "name": "python",
   "nbconvert_exporter": "python",
   "pygments_lexer": "ipython3",
   "version": "3.11.6"
  },
  "nbsphinx": {
   "execute": "never"
  }
 },
 "nbformat": 4,
 "nbformat_minor": 5
}
