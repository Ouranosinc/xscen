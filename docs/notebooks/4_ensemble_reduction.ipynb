{
 "cells": [
  {
   "cell_type": "markdown",
   "metadata": {},
   "source": [
    "# Ensemble reduction\n",
    "\n",
    "This tutorial will explore ensemble reduction (also known as ensemble selection) using `xscen`. This will use pre-computed annual mean temperatures from `xclim.testing`."
   ]
  },
  {
   "cell_type": "code",
   "execution_count": null,
   "metadata": {},
   "outputs": [],
   "source": [
    "from xclim.testing import open_dataset\n",
    "\n",
    "import xscen as xs\n",
    "\n",
    "datasets = {\n",
    "    \"ACCESS\": \"EnsembleStats/BCCAQv2+ANUSPLIN300_ACCESS1-0_historical+rcp45_r1i1p1_1950-2100_tg_mean_YS.nc\",\n",
    "    \"BNU-ESM\": \"EnsembleStats/BCCAQv2+ANUSPLIN300_BNU-ESM_historical+rcp45_r1i1p1_1950-2100_tg_mean_YS.nc\",\n",
    "    \"CCSM4-r1\": \"EnsembleStats/BCCAQv2+ANUSPLIN300_CCSM4_historical+rcp45_r1i1p1_1950-2100_tg_mean_YS.nc\",\n",
    "    \"CCSM4-r2\": \"EnsembleStats/BCCAQv2+ANUSPLIN300_CCSM4_historical+rcp45_r2i1p1_1950-2100_tg_mean_YS.nc\",\n",
    "    \"CNRM-CM5\": \"EnsembleStats/BCCAQv2+ANUSPLIN300_CNRM-CM5_historical+rcp45_r1i1p1_1970-2050_tg_mean_YS.nc\",\n",
    "}\n",
    "\n",
    "for d in datasets:\n",
    "    ds = open_dataset(datasets[d]).isel(lon=slice(0, 4), lat=slice(0, 4))\n",
    "    ds = xs.climatological_mean(ds, window=30, periods=[[1981, 2010], [2021, 2050]])\n",
    "    datasets[d] = xs.compute_deltas(ds, reference_horizon=\"1981-2010\")\n",
    "    datasets[d].attrs[\"cat:id\"] = d  # Required by build_reduction_data\n",
    "    datasets[d].attrs[\"cat:xrfreq\"] = \"AS-JAN\""
   ]
  },
  {
   "cell_type": "markdown",
   "metadata": {},
   "source": [
    "## Preparing the data\n",
    "\n",
    "Ensemble reduction is built upon climate indicators that are relevant to represent the ensemble's variability for a given application. In this case, we'll use the mean temperature delta between 2021-2050 and 1981-2010.\n",
    "\n",
    "However, the functions implemented in `xclim.ensembles._reduce` require a very specific 2-D DataArray of dimensions \"realization\" and \"criteria\". That means that all the variables need to be combined and renamed, and that all dimensions need to be stacked together.\n",
    "\n",
    "`xs.build_reduction_data` can be used to prepare the data for ensemble reduction. Its arguments are:\n",
    "\n",
    "- `datasets` (dict, list)\n",
    "- `xrfreqs` are the unique frequencies of the indicators.\n",
    "- `horizons` is used to instruct on which horizon(s) to build the data from.\n",
    "\n",
    "Because a simulation could have multiple datasets (in the case of multiple frequencies), an attempt will be made to decipher the ID and frequency from the metadata."
   ]
  },
  {
   "cell_type": "code",
   "execution_count": null,
   "metadata": {},
   "outputs": [],
   "source": [
    "data = xs.build_reduction_data(\n",
    "    datasets=datasets,\n",
    "    xrfreqs=[\"AS-JAN\"],\n",
    "    horizons=[\"2021-2050\"],\n",
    ")\n",
    "\n",
    "data"
   ]
  },
  {
   "cell_type": "markdown",
   "metadata": {},
   "source": [
    "The number of criteria corresponds to: `indicators x horizons x longitude x latitude`, but criteria that are purely NaN across all realizations are removed.\n",
    "\n",
    "Note that `xs.spatial_mean` could have been used prior to calling that function to remove the spatial dimensions."
   ]
  },
  {
   "cell_type": "markdown",
   "metadata": {},
   "source": [
    "## Selecting a reduced ensemble\n",
    "\n",
    "<div class=\"alert alert-info\"> <b>NOTE</b>\n",
    "    \n",
    "Ensemble reduction in `xscen` is built upon `xclim.ensembles`. For more information on basic usage and available methods, [please consult their documentation](https://xclim.readthedocs.io/en/stable/notebooks/ensembles-advanced.html).\n",
    "</div>\n",
    "\n",
    "Ensemble reduction through `xscen.reduce_ensemble` consists in a simple call to `xclim`. The arguments are:\n",
    "- `data`, which is the 2D DataArray that is created by using `xs.build_reduction_data`.\n",
    "- `method` is either `kkz` or `kmeans`. See the link above for further details on each technique.\n",
    "- `kwargs` is a dictionary of arguments to send to the method chosen."
   ]
  },
  {
   "cell_type": "code",
   "execution_count": null,
   "metadata": {},
   "outputs": [],
   "source": [
    "selected, clusters, fig_data = xs.reduce_ensemble(\n",
    "    data=data, method=\"kmeans\", kwargs={\"method\": {\"n_clusters\": 3}}\n",
    ")"
   ]
  },
  {
   "cell_type": "markdown",
   "metadata": {},
   "source": [
    "The method always returns 3 outputs (selected, clusters, fig_data):\n",
    "- `selected` is a DataArray of dimension 'realization' listing the selected simulations.\n",
    "- `clusters` (kmeans only) groups every realization in their respective clusters in a python dictionary.\n",
    "- `fig_data` (kmeans only) can be used to call `xclim.ensembles.plot_rsqprofile(fig_data)`"
   ]
  },
  {
   "cell_type": "code",
   "execution_count": null,
   "metadata": {},
   "outputs": [],
   "source": [
    "selected"
   ]
  },
  {
   "cell_type": "code",
   "execution_count": null,
   "metadata": {},
   "outputs": [],
   "source": [
    "# To see the clusters in more details\n",
    "clusters"
   ]
  },
  {
   "cell_type": "code",
   "execution_count": null,
   "metadata": {},
   "outputs": [],
   "source": [
    "from xclim.ensembles import plot_rsqprofile\n",
    "\n",
    "plot_rsqprofile(fig_data)"
   ]
  }
 ],
 "metadata": {
  "@webio": {
   "lastCommId": null,
   "lastKernelId": null
  },
  "kernelspec": {
   "display_name": "Python 3 (ipykernel)",
   "language": "python",
   "name": "python3"
  },
  "language_info": {
   "codemirror_mode": {
    "name": "ipython",
    "version": 3
   },
   "file_extension": ".py",
   "mimetype": "text/x-python",
   "name": "python",
   "nbconvert_exporter": "python",
   "pygments_lexer": "ipython3",
   "version": "3.10.12"
  }
 },
 "nbformat": 4,
 "nbformat_minor": 4
}
