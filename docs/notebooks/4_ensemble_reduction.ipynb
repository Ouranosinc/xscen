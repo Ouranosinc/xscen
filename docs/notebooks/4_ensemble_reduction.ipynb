{
 "cells": [
  {
   "cell_type": "markdown",
   "metadata": {},
   "source": [
    "# Ensemble reduction\n",
    "\n",
    "This tutorial will explore ensemble reduction (also known as ensemble selection) using `xscen`. This will use the catalog from the Getting Started notebook, so make sure you run GettingStarted.ipynb before this one."
   ]
  },
  {
   "cell_type": "code",
   "execution_count": null,
   "metadata": {},
   "outputs": [],
   "source": [
    "from pathlib import Path\n",
    "\n",
    "import xscen as xs\n",
    "\n",
    "output_folder = Path().absolute() / \"_data\"\n",
    "\n",
    "# Open the Getting Started catalog\n",
    "gettingStarted_cat = xs.DataCatalog(str(output_folder / \"example-gettingstarted.json\"))"
   ]
  },
  {
   "cell_type": "markdown",
   "metadata": {},
   "source": [
    "## Preparing the data\n",
    "\n",
    "Ensemble reduction is built upon climate indicators that are relevant to represent the ensemble's variability for a given application. In the case of Getting Started, two indicators were computed:"
   ]
  },
  {
   "cell_type": "code",
   "execution_count": null,
   "metadata": {},
   "outputs": [],
   "source": [
    "gettingStarted_cat.search(processing_level=\"deltas\").unique(\"variable\")"
   ]
  },
  {
   "cell_type": "markdown",
   "metadata": {},
   "source": [
    "However, the functions implemented in `xclim.ensembles._reduce` require a very specific 2-D DataArray of dimensions \"realization\" and \"criteria\". That means that all the variables need to be combined and renamed, and that all dimensions need to be stacked together.\n",
    "\n",
    "`xs.build_reduction_data` can be used to prepare the data for ensemble reduction. Its arguments are:\n",
    "\n",
    "- `datasets` (dict, list)\n",
    "- `xrfreqs` are the unique frequencies of the indicators.\n",
    "- `horizons` is used to instruct on which horizon(s) to build the data from.\n",
    "\n",
    "Because a simulation could have multiple datasets (in the case of multiple frequencies), an attempt will be made to decipher the ID and frequency from the metadata."
   ]
  },
  {
   "cell_type": "code",
   "execution_count": null,
   "metadata": {},
   "outputs": [],
   "source": [
    "ds_dict = gettingStarted_cat.search(processing_level=\"deltas\", domain=\"regular0-25\")\n",
    "data = xs.build_reduction_data(\n",
    "    datasets=ds_dict.to_dataset_dict(),\n",
    "    xrfreqs=ds_dict.unique(\"xrfreq\"),\n",
    "    horizons=[\"2005-2009\", \"2010-2014\"],\n",
    ")\n",
    "\n",
    "data"
   ]
  },
  {
   "cell_type": "markdown",
   "metadata": {},
   "source": [
    "The number of criteria corresponds to: `indicators x horizons x longitude x latitude`, but criteria that are purely NaN across all realizations are removed.\n",
    "\n",
    "Note that `xs.spatial_mean` could have been used prior to calling that function to remove the spatial dimensions."
   ]
  },
  {
   "cell_type": "markdown",
   "metadata": {},
   "source": [
    "## Selecting a reduced ensemble\n",
    "\n",
    "<div class=\"alert alert-info\"> <b>NOTE</b>\n",
    "    \n",
    "Ensemble reduction in `xscen` is built upon `xclim.ensembles`. For more information on basic usage and available methods, [please consult their documentation](https://xclim.readthedocs.io/en/stable/notebooks/ensembles-advanced.html).\n",
    "</div>\n",
    "\n",
    "Ensemble reduction through `xscen.reduce_ensemble` consists in a simple call to `xclim`. The arguments are:\n",
    "- `data`, which is the 2D DataArray that is created by using `xs.build_reduction_data`.\n",
    "- `method` is either `kkz` or `kmeans`. See the link above for further details on each technique.\n",
    "- `kwargs` is a dictionary of arguments to send to the method chosen."
   ]
  },
  {
   "cell_type": "code",
   "execution_count": null,
   "metadata": {},
   "outputs": [],
   "source": [
    "selected, clusters, fig_data = xs.reduce_ensemble(\n",
    "    data=data, method=\"kmeans\", kwargs={\"method\": {\"n_clusters\": 2}}\n",
    ")"
   ]
  },
  {
   "cell_type": "markdown",
   "metadata": {},
   "source": [
    "The method always returns 3 outputs (selected, clusters, fig_data):\n",
    "- `selected` is a DataArray of dimension 'realization' listing the selected simulations.\n",
    "- `clusters` (kmeans only) groups every realization in their respective clusters in a python dictionary.\n",
    "- `fig_data` (kmeans only) can be used to call `xclim.ensembles.plot_rsqprofile(fig_data)`"
   ]
  },
  {
   "cell_type": "code",
   "execution_count": null,
   "metadata": {},
   "outputs": [],
   "source": [
    "selected"
   ]
  },
  {
   "cell_type": "code",
   "execution_count": null,
   "metadata": {},
   "outputs": [],
   "source": [
    "clusters"
   ]
  },
  {
   "cell_type": "code",
   "execution_count": null,
   "metadata": {},
   "outputs": [],
   "source": [
    "from xclim.ensembles import plot_rsqprofile\n",
    "\n",
    "plot_rsqprofile(fig_data)"
   ]
  }
 ],
 "metadata": {
  "@webio": {
   "lastCommId": null,
   "lastKernelId": null
  },
  "kernelspec": {
   "display_name": "Python 3 (ipykernel)",
   "language": "python",
   "name": "python3"
  },
  "language_info": {
   "codemirror_mode": {
    "name": "ipython",
    "version": 3
   },
   "file_extension": ".py",
   "mimetype": "text/x-python",
   "name": "python",
   "nbconvert_exporter": "python",
   "pygments_lexer": "ipython3",
   "version": "3.10.10"
  }
 },
 "nbformat": 4,
 "nbformat_minor": 4
}
